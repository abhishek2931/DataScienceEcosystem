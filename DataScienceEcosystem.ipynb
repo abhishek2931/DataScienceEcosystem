{
 "cells": [
  {
   "cell_type": "markdown",
   "id": "4e61311f-be55-4153-a8cd-e9371c8b6a52",
   "metadata": {},
   "source": [
    "# Data Science Tools and Ecosystem"
   ]
  },
  {
   "cell_type": "markdown",
   "id": "b3ca482b-408c-4489-a4ea-b405c1e53d11",
   "metadata": {},
   "source": [
    "In this notebook, we will summarise Data Science Tools and Eco System"
   ]
  },
  {
   "cell_type": "markdown",
   "id": "51818e7b-b294-488e-9792-9fb24e6d1372",
   "metadata": {},
   "source": [
    "Some of the popular languages that Data Scientists use are:\n",
    "\n",
    "1. Python\n",
    "2. SQL\n",
    "3. R\n",
    "4. Julia\n",
    "5. Javascript\n",
    "6. Scala"
   ]
  },
  {
   "cell_type": "markdown",
   "id": "d3929969-b01b-40e6-b100-c79c95c55f9e",
   "metadata": {},
   "source": [
    "Some of the commonly used libraries used by Data Scientists include:\n",
    "\n",
    "1. TensorFlow\n",
    "2. NumPy\n",
    "3. SciPy \n",
    "4. Pandas\n",
    "5. Matplotlib \n",
    "6. Keras\n",
    "7. SciKit-Learn\n",
    "8. PyTorch"
   ]
  },
  {
   "cell_type": "markdown",
   "id": "8aa49cef-4c5f-4f8e-b470-d0a949043d90",
   "metadata": {},
   "source": [
    "| Data Science Tools |\n",
    "|-----------------------|\n",
    "| R Studio |\n",
    "| Apache Spark |\n",
    "| Tensor Flow |"
   ]
  },
  {
   "cell_type": "markdown",
   "id": "8e7fdc47-4cfd-47b2-8219-c3da8d752a4c",
   "metadata": {},
   "source": [
    "### Below are a few examples of evaluating arithmetic expressions in Python"
   ]
  },
  {
   "cell_type": "code",
   "execution_count": 1,
   "id": "330f95f4-1897-4a90-9ffe-9f469e5388e5",
   "metadata": {},
   "outputs": [
    {
     "data": {
      "text/plain": [
       "17"
      ]
     },
     "execution_count": 1,
     "metadata": {},
     "output_type": "execute_result"
    }
   ],
   "source": [
    "# This a simple arithmetic expression to mutiply then add integers\n",
    "(3*4)+5\n"
   ]
  },
  {
   "cell_type": "code",
   "execution_count": 4,
   "id": "42af1b86-c1f1-4062-bbda-f7722f7c4959",
   "metadata": {},
   "outputs": [
    {
     "data": {
      "text/plain": [
       "3.3333333333333335"
      ]
     },
     "execution_count": 4,
     "metadata": {},
     "output_type": "execute_result"
    }
   ],
   "source": [
    "#  This will convert 200 minutes to hours by diving by 60\n",
    "\n",
    "200/60"
   ]
  },
  {
   "cell_type": "markdown",
   "id": "e9ce5c88-bafd-4340-a3f9-27c48179d179",
   "metadata": {},
   "source": [
    "# Objectives-\n",
    "\n",
    "- Add comments to code cells\n",
    "- Create Markdown cells\n",
    "- Add ordered and unordered lists to markdown cells\n",
    "- Format content of markdown cells with heading styles"
   ]
  },
  {
   "cell_type": "markdown",
   "id": "3b05bb8e-d004-46dd-b608-44a00e05c60b",
   "metadata": {},
   "source": [
    "## Author\n",
    "\n",
    "Abhishek Sharma"
   ]
  },
  {
   "cell_type": "code",
   "execution_count": null,
   "id": "5cdef3da-3e40-43f0-a43b-34a210f6042e",
   "metadata": {},
   "outputs": [],
   "source": []
  }
 ],
 "metadata": {
  "kernelspec": {
   "display_name": "Python",
   "language": "python",
   "name": "conda-env-python-py"
  },
  "language_info": {
   "codemirror_mode": {
    "name": "ipython",
    "version": 3
   },
   "file_extension": ".py",
   "mimetype": "text/x-python",
   "name": "python",
   "nbconvert_exporter": "python",
   "pygments_lexer": "ipython3",
   "version": "3.7.12"
  }
 },
 "nbformat": 4,
 "nbformat_minor": 5
}
